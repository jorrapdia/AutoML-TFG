{
 "cells": [
  {
   "cell_type": "markdown",
   "id": "b96f0f3f",
   "metadata": {},
   "source": [
    "<h1>Ejemplo de uso de la librería de AutoML TPOT</h1>"
   ]
  },
  {
   "cell_type": "markdown",
   "id": "a410b498",
   "metadata": {},
   "source": [
    "<hr>"
   ]
  },
  {
   "cell_type": "markdown",
   "id": "7e6edf56",
   "metadata": {},
   "source": [
    "<h3>En este Notebook se va a preparar y ejecutar un ejemplo básico de clasificación mediante AutoML a través de la librería TPOT, con el fin de tener una primera toma de contacto con ella y comprobar su correcto funcionamiento. El ejemplo aquí mostrado ha sido extraído de la documentación de TPOT (http://epistasislab.github.io/tpot/examples/#iris-flower-classification).</h3>"
   ]
  },
  {
   "cell_type": "markdown",
   "id": "79d2e539",
   "metadata": {},
   "source": [
    "<hr>"
   ]
  },
  {
   "cell_type": "markdown",
   "id": "41665194",
   "metadata": {},
   "source": [
    "<h2>1. Importación de librerías y preparación del <i>dataset</i></h2>"
   ]
  },
  {
   "cell_type": "markdown",
   "id": "f6c921bc",
   "metadata": {},
   "source": [
    "<p>Se importan las librerías necesarias:</p>"
   ]
  },
  {
   "cell_type": "code",
   "execution_count": 1,
   "id": "9c05b961",
   "metadata": {},
   "outputs": [],
   "source": [
    "from tpot import TPOTClassifier\n",
    "from sklearn.datasets import load_iris\n",
    "from sklearn.model_selection import train_test_split\n",
    "import numpy as np"
   ]
  },
  {
   "cell_type": "markdown",
   "id": "41758643",
   "metadata": {},
   "source": [
    "Se cargan los datos del dataset de ejemplo desde la librería Sklearn y se separan en conjuntos de prueba y entrenamiento mediante el método <i>traint_test_split</i> de Sklearn."
   ]
  },
  {
   "cell_type": "code",
   "execution_count": 2,
   "id": "ba76415b",
   "metadata": {},
   "outputs": [],
   "source": [
    "iris = load_iris()\n",
    "X_train, X_test, y_train, y_test = train_test_split(iris.data.astype(np.float64),\n",
    "    iris.target.astype(np.float64), train_size=0.75, test_size=0.25, random_state=42)"
   ]
  },
  {
   "cell_type": "markdown",
   "id": "808c887d",
   "metadata": {},
   "source": [
    "<h2>2. Declaración del clasificador de aprendizaje automático automatizado y búsqueda del mejor modelo</h2>"
   ]
  },
  {
   "cell_type": "markdown",
   "id": "f0631a01",
   "metadata": {},
   "source": [
    "Se crea el clasificador automático de TPOT para la búsqueda del mejor modelo con un tamaño de población por cada generación de 50, mientras que las generaciones que se ejecutarán serán 5. Una vez creado, se procede al entrenamiento del clasificador pasándole los datos de entrenamiento (características y variable objetivo)."
   ]
  },
  {
   "cell_type": "code",
   "execution_count": 3,
   "id": "a3b93f4c",
   "metadata": {},
   "outputs": [
    {
     "data": {
      "application/vnd.jupyter.widget-view+json": {
       "model_id": "",
       "version_major": 2,
       "version_minor": 0
      },
      "text/plain": [
       "Optimization Progress:   0%|          | 0/300 [00:00<?, ?pipeline/s]"
      ]
     },
     "metadata": {},
     "output_type": "display_data"
    },
    {
     "name": "stdout",
     "output_type": "stream",
     "text": [
      "\n",
      "Generation 1 - Current best internal CV score: 0.9727272727272727\n",
      "\n",
      "Generation 2 - Current best internal CV score: 0.9727272727272727\n",
      "\n",
      "Generation 3 - Current best internal CV score: 0.9727272727272727\n",
      "\n",
      "Generation 4 - Current best internal CV score: 0.9731225296442687\n",
      "\n",
      "Generation 5 - Current best internal CV score: 0.9731225296442687\n",
      "\n",
      "Best pipeline: RandomForestClassifier(PolynomialFeatures(MultinomialNB(input_matrix, alpha=100.0, fit_prior=True), degree=2, include_bias=False, interaction_only=False), bootstrap=True, criterion=gini, max_features=0.7000000000000001, min_samples_leaf=11, min_samples_split=10, n_estimators=100)\n"
     ]
    },
    {
     "data": {
      "text/plain": [
       "TPOTClassifier(generations=5, population_size=50, random_state=42, verbosity=2)"
      ]
     },
     "execution_count": 3,
     "metadata": {},
     "output_type": "execute_result"
    }
   ],
   "source": [
    "tpot = TPOTClassifier(generations=5, population_size=50, verbosity=2, random_state=42)\n",
    "tpot.fit(X_train, y_train)"
   ]
  },
  {
   "cell_type": "markdown",
   "id": "04f28040",
   "metadata": {},
   "source": [
    "Una vez entrenado el clasificador, se procede a comprobar su precisión a través del método <i>score</i>, al cual se le deberán pasar los datos de prueba (características y variable objetivo)."
   ]
  },
  {
   "cell_type": "code",
   "execution_count": 4,
   "id": "9213272e",
   "metadata": {},
   "outputs": [
    {
     "name": "stdout",
     "output_type": "stream",
     "text": [
      "0.9736842105263158\n"
     ]
    }
   ],
   "source": [
    "print(tpot.score(X_test, y_test))"
   ]
  },
  {
   "cell_type": "markdown",
   "id": "6b9cd26c",
   "metadata": {},
   "source": [
    "<p>Si se desea es posible exportar la mejor <i>pipeline</i> a un fichero '.py' externo.</p>"
   ]
  },
  {
   "cell_type": "code",
   "execution_count": 5,
   "id": "41aee246",
   "metadata": {
    "scrolled": true
   },
   "outputs": [],
   "source": [
    "tpot.export('tpot_approach_pipeline.py')"
   ]
  }
 ],
 "metadata": {
  "kernelspec": {
   "display_name": "Python 3",
   "language": "python",
   "name": "python3"
  },
  "language_info": {
   "codemirror_mode": {
    "name": "ipython",
    "version": 3
   },
   "file_extension": ".py",
   "mimetype": "text/x-python",
   "name": "python",
   "nbconvert_exporter": "python",
   "pygments_lexer": "ipython3",
   "version": "3.8.10"
  }
 },
 "nbformat": 4,
 "nbformat_minor": 5
}
