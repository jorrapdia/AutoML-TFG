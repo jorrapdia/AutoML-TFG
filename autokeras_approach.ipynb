{
 "cells": [
  {
   "cell_type": "markdown",
   "id": "b96f0f3f",
   "metadata": {},
   "source": [
    "<h1>Ejemplo de uso de la librería de AutoML AutoKeras</h1>"
   ]
  },
  {
   "cell_type": "markdown",
   "id": "a410b498",
   "metadata": {},
   "source": [
    "<hr>"
   ]
  },
  {
   "cell_type": "markdown",
   "id": "7e6edf56",
   "metadata": {},
   "source": [
    "<h3>En este Notebook se va a preparar y ejecutar un ejemplo básico de clasificación mediante AutoML a través de la librería AutoKeras, con el fin de tener una primera toma de contacto con ella y comprobar su correcto funcionamiento. El ejemplo aquí mostrado ha sido extraído de la documentación de AutoKeras (https://autokeras.com/tutorial/structured_data_classification/#a-simple-example).</h3>"
   ]
  },
  {
   "cell_type": "markdown",
   "id": "79d2e539",
   "metadata": {},
   "source": [
    "<hr>"
   ]
  },
  {
   "cell_type": "markdown",
   "id": "41665194",
   "metadata": {},
   "source": [
    "<h2>1. Importación de librerías y preparación del <i>dataset</i></h2>"
   ]
  },
  {
   "cell_type": "markdown",
   "id": "f6c921bc",
   "metadata": {},
   "source": [
    "<p>Se importan las librerías necesarias:</p>"
   ]
  },
  {
   "cell_type": "code",
   "execution_count": 1,
   "id": "c3ed501b",
   "metadata": {},
   "outputs": [],
   "source": [
    "import numpy as np\n",
    "import pandas as pd\n",
    "import tensorflow as tf\n",
    "import autokeras as ak"
   ]
  },
  {
   "cell_type": "markdown",
   "id": "ee9907fe",
   "metadata": {},
   "source": [
    "Se carga un dataset de ejemplo del repositorio de Google, en este caso el del desastre del Titanic. Desde las URLs se extraen dos archivos CSV, uno con los datos de entrenamiento y el otro con los datos de prueba."
   ]
  },
  {
   "cell_type": "code",
   "execution_count": 2,
   "id": "8f0de5eb",
   "metadata": {},
   "outputs": [],
   "source": [
    "TRAIN_DATA_URL = \"https://storage.googleapis.com/tf-datasets/titanic/train.csv\"\n",
    "TEST_DATA_URL = \"https://storage.googleapis.com/tf-datasets/titanic/eval.csv\"\n",
    "\n",
    "train_file_path = tf.keras.utils.get_file(\"train.csv\", TRAIN_DATA_URL)\n",
    "test_file_path = tf.keras.utils.get_file(\"eval.csv\", TEST_DATA_URL)"
   ]
  },
  {
   "cell_type": "markdown",
   "id": "808c887d",
   "metadata": {},
   "source": [
    "<h2>2. Declaración del clasificador de aprendizaje automático automatizado y búsqueda del mejor modelo</h2>"
   ]
  },
  {
   "cell_type": "markdown",
   "id": "d1490dae",
   "metadata": {},
   "source": [
    "Creación del clasificador de aprendizaje automático automatizado de AutoKeras, configurado para ejecutar 3 repeticiones. Luego, se realiza su entrenamiento mediante el método <i>fit</i>, al que se le pasa el CSV con los datos de entrenamiento y el nombre de la columna objetivo. Cada repetición del entrenamiento tendrá un máximo de 10 <i>epochs</i>."
   ]
  },
  {
   "cell_type": "code",
   "execution_count": 3,
   "id": "6a5ebc48",
   "metadata": {},
   "outputs": [
    {
     "name": "stdout",
     "output_type": "stream",
     "text": [
      "Trial 3 Complete [00h 00m 01s]\n",
      "val_accuracy: 0.852173924446106\n",
      "\n",
      "Best val_accuracy So Far: 0.8782608509063721\n",
      "Total elapsed time: 00h 00m 05s\n",
      "INFO:tensorflow:Oracle triggered exit\n",
      "Epoch 1/10\n",
      "20/20 [==============================] - 0s 2ms/step - loss: 0.7047 - accuracy: 0.5295\n",
      "Epoch 2/10\n",
      "20/20 [==============================] - 0s 2ms/step - loss: 0.6072 - accuracy: 0.7049\n",
      "Epoch 3/10\n",
      "20/20 [==============================] - 0s 1ms/step - loss: 0.5551 - accuracy: 0.7687\n",
      "Epoch 4/10\n",
      "20/20 [==============================] - 0s 2ms/step - loss: 0.5151 - accuracy: 0.7943\n",
      "Epoch 5/10\n",
      "20/20 [==============================] - 0s 2ms/step - loss: 0.4855 - accuracy: 0.8038\n",
      "Epoch 6/10\n",
      "20/20 [==============================] - 0s 2ms/step - loss: 0.4635 - accuracy: 0.8150\n",
      "Epoch 7/10\n",
      "20/20 [==============================] - 0s 2ms/step - loss: 0.4476 - accuracy: 0.8230\n",
      "Epoch 8/10\n",
      "20/20 [==============================] - 0s 2ms/step - loss: 0.4365 - accuracy: 0.8198\n",
      "Epoch 9/10\n",
      "20/20 [==============================] - 0s 2ms/step - loss: 0.4280 - accuracy: 0.8198\n",
      "Epoch 10/10\n",
      "20/20 [==============================] - 0s 2ms/step - loss: 0.4213 - accuracy: 0.8246\n",
      "INFO:tensorflow:Assets written to: ./autokeras_approach/best_model/assets\n"
     ]
    }
   ],
   "source": [
    "clf = ak.StructuredDataClassifier(overwrite=True, max_trials=3, project_name='autokeras_approach')\n",
    "clf.fit(train_file_path, \"survived\", epochs=10)"
   ]
  },
  {
   "cell_type": "markdown",
   "id": "78732a72",
   "metadata": {},
   "source": [
    "<p>Por último, una vez entrenado el clasificador, se comprueba su precisión. Para ello, en primer lugar se predecirá los valores de la columna 'survived' mediante el método <i>predict</i>, el cual necesitará el CSV con los datos de prueba. Una vez hecho, se evalúa la precisión con el método <i>evaluate</i> del clasificador."
   ]
  },
  {
   "cell_type": "code",
   "execution_count": 4,
   "id": "a467dfcb",
   "metadata": {},
   "outputs": [
    {
     "name": "stdout",
     "output_type": "stream",
     "text": [
      "9/9 [==============================] - 0s 1ms/step\n",
      "9/9 [==============================] - 0s 2ms/step - loss: 0.4502 - accuracy: 0.7803\n",
      "[0.45017048716545105, 0.7803030014038086]\n"
     ]
    }
   ],
   "source": [
    "predicted_y = clf.predict(test_file_path)\n",
    "print(clf.evaluate(test_file_path, \"survived\"))"
   ]
  }
 ],
 "metadata": {
  "kernelspec": {
   "display_name": "Python 3",
   "language": "python",
   "name": "python3"
  },
  "language_info": {
   "codemirror_mode": {
    "name": "ipython",
    "version": 3
   },
   "file_extension": ".py",
   "mimetype": "text/x-python",
   "name": "python",
   "nbconvert_exporter": "python",
   "pygments_lexer": "ipython3",
   "version": "3.8.10"
  }
 },
 "nbformat": 4,
 "nbformat_minor": 5
}
